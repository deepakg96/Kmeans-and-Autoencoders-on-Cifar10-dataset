{
  "nbformat": 4,
  "nbformat_minor": 5,
  "metadata": {
    "kernelspec": {
      "display_name": "Python 3",
      "language": "python",
      "name": "python3"
    },
    "language_info": {
      "codemirror_mode": {
        "name": "ipython",
        "version": 3
      },
      "file_extension": ".py",
      "mimetype": "text/x-python",
      "name": "python",
      "nbconvert_exporter": "python",
      "pygments_lexer": "ipython3",
      "version": "3.8.8"
    },
    "colab": {
      "name": "Assignemen2_solved.ipynb",
      "provenance": [],
      "collapsed_sections": []
    }
  },
  "cells": [
    {
      "cell_type": "markdown",
      "metadata": {
        "id": "ugvDpWDWST_A"
      },
      "source": [
        "**PART 1: K MEANS CLUSTERING**"
      ],
      "id": "ugvDpWDWST_A"
    },
    {
      "cell_type": "code",
      "metadata": {
        "colab": {
          "base_uri": "https://localhost:8080/"
        },
        "id": "875dae32",
        "outputId": "491a2251-4cb2-4210-f9d7-907aeba7e253"
      },
      "source": [
        "# Imports\n",
        "import numpy as np\n",
        "from tensorflow.keras.datasets import cifar10\n",
        "from sklearn.metrics import silhouette_samples, silhouette_score\n",
        "!pip install validclust\n",
        "from sklearn.metrics import pairwise_distances\n",
        "from validclust import dunn\n",
        "import math"
      ],
      "id": "875dae32",
      "execution_count": 1,
      "outputs": [
        {
          "output_type": "stream",
          "name": "stdout",
          "text": [
            "Collecting validclust\n",
            "  Downloading validclust-0.1.1-py2.py3-none-any.whl (8.1 kB)\n",
            "Requirement already satisfied: numpy>=1.16.5 in /usr/local/lib/python3.7/dist-packages (from validclust) (1.19.5)\n",
            "Requirement already satisfied: pandas in /usr/local/lib/python3.7/dist-packages (from validclust) (1.1.5)\n",
            "Requirement already satisfied: matplotlib in /usr/local/lib/python3.7/dist-packages (from validclust) (3.2.2)\n",
            "Requirement already satisfied: scikit-learn in /usr/local/lib/python3.7/dist-packages (from validclust) (1.0.1)\n",
            "Requirement already satisfied: seaborn in /usr/local/lib/python3.7/dist-packages (from validclust) (0.11.2)\n",
            "Requirement already satisfied: packaging in /usr/local/lib/python3.7/dist-packages (from validclust) (21.3)\n",
            "Requirement already satisfied: python-dateutil>=2.1 in /usr/local/lib/python3.7/dist-packages (from matplotlib->validclust) (2.8.2)\n",
            "Requirement already satisfied: pyparsing!=2.0.4,!=2.1.2,!=2.1.6,>=2.0.1 in /usr/local/lib/python3.7/dist-packages (from matplotlib->validclust) (3.0.6)\n",
            "Requirement already satisfied: kiwisolver>=1.0.1 in /usr/local/lib/python3.7/dist-packages (from matplotlib->validclust) (1.3.2)\n",
            "Requirement already satisfied: cycler>=0.10 in /usr/local/lib/python3.7/dist-packages (from matplotlib->validclust) (0.11.0)\n",
            "Requirement already satisfied: six>=1.5 in /usr/local/lib/python3.7/dist-packages (from python-dateutil>=2.1->matplotlib->validclust) (1.15.0)\n",
            "Requirement already satisfied: pytz>=2017.2 in /usr/local/lib/python3.7/dist-packages (from pandas->validclust) (2018.9)\n",
            "Requirement already satisfied: threadpoolctl>=2.0.0 in /usr/local/lib/python3.7/dist-packages (from scikit-learn->validclust) (3.0.0)\n",
            "Requirement already satisfied: scipy>=1.1.0 in /usr/local/lib/python3.7/dist-packages (from scikit-learn->validclust) (1.4.1)\n",
            "Requirement already satisfied: joblib>=0.11 in /usr/local/lib/python3.7/dist-packages (from scikit-learn->validclust) (1.1.0)\n",
            "Installing collected packages: validclust\n",
            "Successfully installed validclust-0.1.1\n"
          ]
        }
      ]
    },
    {
      "cell_type": "code",
      "metadata": {
        "id": "8b298d3c",
        "colab": {
          "base_uri": "https://localhost:8080/"
        },
        "outputId": "18723cbf-2eaa-4a34-ce10-7796e891de27"
      },
      "source": [
        "# This is set to ensure that randomness doesn't change.\n",
        "np.random.seed(0)\n",
        "\n",
        "# Load cifar10 dataset \n",
        "(x_train, y_train), (x_test, y_test) = cifar10.load_data()\n",
        "# 50000 images for training, 32x32, RGB\n",
        "# 10000 images for testing, 32x32, RGB\n",
        "print(x_train.shape)\n",
        "print(x_test.shape)\n",
        "print(y_train.shape)\n",
        "print(y_test.shape)"
      ],
      "id": "8b298d3c",
      "execution_count": 2,
      "outputs": [
        {
          "output_type": "stream",
          "name": "stdout",
          "text": [
            "Downloading data from https://www.cs.toronto.edu/~kriz/cifar-10-python.tar.gz\n",
            "170500096/170498071 [==============================] - 2s 0us/step\n",
            "170508288/170498071 [==============================] - 2s 0us/step\n",
            "(50000, 32, 32, 3)\n",
            "(10000, 32, 32, 3)\n",
            "(50000, 1)\n",
            "(10000, 1)\n"
          ]
        }
      ]
    },
    {
      "cell_type": "code",
      "metadata": {
        "id": "zGvUhKOrR46X"
      },
      "source": [
        "# Preprocessing the test data. This includes,\n",
        "# 1. Converting RGB to Grayscale\n",
        "# 2. Normalisation\n",
        "def preprocess_data(x):\n",
        "  # RGB to Grayscale\n",
        "  from skimage.color import rgb2gray\n",
        "  x=rgb2gray(np.array(x))\n",
        "  x=x.reshape(-1, 32*32)\n",
        "\n",
        "  # Normalise\n",
        "  x=x/255\n",
        "  return x"
      ],
      "id": "zGvUhKOrR46X",
      "execution_count": 3,
      "outputs": []
    },
    {
      "cell_type": "code",
      "metadata": {
        "colab": {
          "base_uri": "https://localhost:8080/"
        },
        "id": "UUB4arfbTLbn",
        "outputId": "bb2bab94-5fe2-4d35-f2f6-534958395619"
      },
      "source": [
        "x_test=preprocess_data(x_test)\n",
        "print(x_test.shape)"
      ],
      "id": "UUB4arfbTLbn",
      "execution_count": 4,
      "outputs": [
        {
          "output_type": "stream",
          "name": "stdout",
          "text": [
            "(10000, 1024)\n"
          ]
        }
      ]
    },
    {
      "cell_type": "code",
      "metadata": {
        "id": "540f0d2a"
      },
      "source": [
        "class KMeans:\n",
        "  # Constructor \n",
        "  def __init__(self, k=10, iterations =100):\n",
        "    self.k = k\n",
        "    self.iterations = iterations\n",
        "    self.centroid_threshold = 0.001\n",
        "\n",
        "  # Euclidean distance between two points.\n",
        "  def euc_dist(self, p1, p2):\n",
        "    ed = np.sqrt(np.sum((np.array(p1)-np.array(p2))**2))\n",
        "    return ed\n",
        "\n",
        "  # Initialise centroids with randomly selected points from the dataset.\n",
        "  def initialise_centroids(self, x, k):\n",
        "    init_centroids = []\n",
        "    for i in range(k):\n",
        "      init_centroids.append(np.random.choice(x[i]))\n",
        "    return np.asarray(init_centroids)\n",
        "\n",
        "  # Iterate over every point in the dataset based on euclidean distances of the points from the initial_centroids list\n",
        "  def assign_clusters(self, init_centroids):\n",
        "    # Create a list of lists to hold clusters and their datapoints.\n",
        "    clusters_list = [[] for i in range(self.k)]\n",
        "    # cluster_index will be the label of the cluster\n",
        "    # data will be the datapoint belonging to that cluster\n",
        "    for cluster_index, data in enumerate(self.x):\n",
        "      euc_distances = []\n",
        "      for centroid_data in init_centroids:\n",
        "        euc_distances.append(self.euc_dist(data, centroid_data))\n",
        "      minimum_distance = np.argmin(euc_distances)\n",
        "      clusters_list[minimum_distance].append(cluster_index)\n",
        "    return clusters_list\n",
        "\n",
        "  # Updates the cluster centroid with the mean of the all the values.\n",
        "  def update_centroids(self, clusters):\n",
        "    centroids = np.zeros((self.k, self.x.shape[1]))\n",
        "    for cluster_index, cluster_data in enumerate(clusters):\n",
        "      mean_value = np.mean(self.x[cluster_data], axis = 0)\n",
        "      centroids[cluster_index] = mean_value\n",
        "    return centroids \n",
        "\n",
        "\n",
        "  def kmeans_cluster(self, x):\n",
        "    self.x = x\n",
        "    self.initial_centroids = self.initialise_centroids(x, self.k)\n",
        "\n",
        "    for i in range(self.iterations):\n",
        "      self.clusters = self.assign_clusters(self.initial_centroids)\n",
        "      # Now recalculate centroids and check if we arrived at stable centroids.\n",
        "      old_centroids = self.initial_centroids\n",
        "      self.initial_centroids = self.update_centroids(self.clusters)\n",
        "      if self.are_centroids_same(old_centroids, self.initial_centroids):\n",
        "        break\n",
        "\n",
        "    # Now calculate ASC and DI score\n",
        "    self.dump_cluster_scores(self.clusters, x.shape[0])\n",
        "    \n",
        "  # This checks if the centroids of the clusters haven't changed over iterations. \n",
        "  # If the difference in the centroids is less than 0.001, we assume that we arrived at stable centroids.\n",
        "  def are_centroids_same(self, old_centroids, centroids):\n",
        "    for i in range(self.k):\n",
        "      if((old_centroids[i] - centroids[i]).all() <= self.centroid_threshold):\n",
        "        return 1\n",
        "    return 0\n",
        "\n",
        "  # Print ASC and DI score.\n",
        "  def dump_cluster_scores(self, clusters, samples):\n",
        "    cluster_labels = np.empty(samples)\n",
        "    for cluster_index, cluster_data in enumerate(self.clusters):\n",
        "      for data in cluster_data:\n",
        "        cluster_labels[data] = cluster_index\n",
        "    dunns_distances = pairwise_distances(self.x)\n",
        "    print(\"Silhouette score of the cluster is : \", silhouette_score(self.x, cluster_labels))\n",
        "    print(\"Dunn’s Index of the cluster is : \", dunn(dunns_distances, cluster_labels))\n"
      ],
      "id": "540f0d2a",
      "execution_count": 5,
      "outputs": []
    },
    {
      "cell_type": "code",
      "metadata": {
        "id": "ddb79985",
        "colab": {
          "base_uri": "https://localhost:8080/"
        },
        "outputId": "f95333a6-52c2-4f7a-ee39-7e5486fad1ed"
      },
      "source": [
        "model = KMeans(k = 10, iterations = 100)\n",
        "model.kmeans_cluster(x_test)"
      ],
      "id": "ddb79985",
      "execution_count": 6,
      "outputs": [
        {
          "output_type": "stream",
          "name": "stdout",
          "text": [
            "Silhouette score of the cluster is :  0.056780612161415375\n",
            "Dunn’s Index of the cluster is :  0.0943457737856286\n"
          ]
        }
      ]
    },
    {
      "cell_type": "markdown",
      "metadata": {
        "id": "FsmUPlrNSCvg"
      },
      "source": [
        "**PART 2: AUTOENCODERS**"
      ],
      "id": "FsmUPlrNSCvg"
    },
    {
      "cell_type": "code",
      "metadata": {
        "id": "I2tiM642SQ0X"
      },
      "source": [
        "#Imports\n",
        "import numpy as np\n",
        "from tensorflow.keras.datasets import cifar10\n",
        "from tensorflow import keras\n",
        "from sklearn.cluster import KMeans\n",
        "from sklearn.metrics import silhouette_samples, silhouette_score\n",
        "from tensorflow.keras import layers, losses\n",
        "from tensorflow.keras.models import Model\n",
        "import matplotlib.pyplot as plt"
      ],
      "id": "I2tiM642SQ0X",
      "execution_count": 7,
      "outputs": []
    },
    {
      "cell_type": "code",
      "metadata": {
        "colab": {
          "base_uri": "https://localhost:8080/"
        },
        "id": "s-04ann1NRVc",
        "outputId": "54fa368c-547d-41ff-9731-a922a51770b1"
      },
      "source": [
        "# This is set to ensure that randomness doesn't change.\n",
        "np.random.seed(0)\n",
        "\n",
        "# Load cifar10 dataset \n",
        "(x_train, y_train), (x_test, y_test) = cifar10.load_data()\n",
        "# 50000 images for training, 32x32, RGB\n",
        "# 10000 images for testing, 32x32, RGB\n",
        "print(x_train.shape)\n",
        "print(x_test.shape)\n",
        "print(y_train.shape)\n",
        "print(y_test.shape)"
      ],
      "id": "s-04ann1NRVc",
      "execution_count": 8,
      "outputs": [
        {
          "output_type": "stream",
          "name": "stdout",
          "text": [
            "(50000, 32, 32, 3)\n",
            "(10000, 32, 32, 3)\n",
            "(50000, 1)\n",
            "(10000, 1)\n"
          ]
        }
      ]
    },
    {
      "cell_type": "code",
      "metadata": {
        "id": "FFis-6yOr1qN"
      },
      "source": [
        "def preprocess_data_ae(x):\n",
        "  # # rgb2gray way of conversion is leading to poor encoding-decoding?\n",
        "  # # RGB to Grayscale\n",
        "  # from skimage.color import rgb2gray\n",
        "  # x = np.asarray([rgb2gray(i) for i in x])\n",
        "\n",
        "  # # Normalise\n",
        "  # x =x/255\n",
        "  # return x\n",
        "\n",
        "  import cv2\n",
        "  # RGB to Grayscale\n",
        "  x = np.asarray([cv2.cvtColor(img, cv2.COLOR_BGR2GRAY)for img in x_train])\n",
        "\n",
        "  # Normalise\n",
        "  x = x/255\n",
        "  return x\n",
        "\n",
        "x_train = preprocess_data_ae(x_train)"
      ],
      "id": "FFis-6yOr1qN",
      "execution_count": 9,
      "outputs": []
    },
    {
      "cell_type": "code",
      "metadata": {
        "colab": {
          "base_uri": "https://localhost:8080/"
        },
        "id": "WSFkCAC4Wz8i",
        "outputId": "a99890ee-a270-4adb-f425-60bee656fa61"
      },
      "source": [
        "original_gray_first = x_train[0]\n",
        "print(original_gray_first)"
      ],
      "id": "WSFkCAC4Wz8i",
      "execution_count": 10,
      "outputs": [
        {
          "output_type": "stream",
          "name": "stdout",
          "text": [
            "[[0.24313725 0.17647059 0.18431373 ... 0.50196078 0.4745098  0.47058824]\n",
            " [0.07843137 0.         0.02745098 ... 0.32156863 0.30196078 0.32156863]\n",
            " [0.09019608 0.02352941 0.09411765 ... 0.30588235 0.30588235 0.26666667]\n",
            " ...\n",
            " [0.59607843 0.48235294 0.49019608 ... 0.45882353 0.10588235 0.1254902 ]\n",
            " [0.51372549 0.40784314 0.45098039 ... 0.53333333 0.22745098 0.2       ]\n",
            " [0.54509804 0.48235294 0.50980392 ... 0.68235294 0.43921569 0.35294118]]\n"
          ]
        }
      ]
    },
    {
      "cell_type": "code",
      "metadata": {
        "id": "DU5PI7kRsUAv"
      },
      "source": [
        "class Autoencoder():\n",
        "  def __init__(self):\n",
        "    self.encoding_dimension = 256\n",
        "    self.encoder_model = None\n",
        "    self.decoder_model = None\n",
        "    self.encoder()\n",
        "    self.decoder()\n",
        "\n",
        "  # Specifies the encoding scheme\n",
        "  def encoder(self):\n",
        "    self.encoder_input = keras.Input(shape=(32, 32, 1),)\n",
        "    self.flat_encoder_input = keras.layers.Flatten()(self.encoder_input)\n",
        "    self.encoder_output = keras.layers.Dense(self.encoding_dimension, activation='relu')(self.flat_encoder_input)\n",
        "\n",
        "    # Encoder model\n",
        "    self.encoder_model = keras.Model(self.encoder_input, self.encoder_output, name='encoder_model')\n",
        "\n",
        "  # Specifies the decoding scheme\n",
        "  def decoder(self):\n",
        "    self.decoder_input = keras.layers.Dense(1024, activation='relu')(self.encoder_output)\n",
        "    self.decoder_output = keras.layers.Reshape((32, 32, 1))(self.decoder_input)\n",
        "\n",
        "    # Decoder model\n",
        "    self.decoder_model = keras.Model(self.encoder_output, self.decoder_input, name='decoder_model')"
      ],
      "id": "DU5PI7kRsUAv",
      "execution_count": 11,
      "outputs": []
    },
    {
      "cell_type": "code",
      "metadata": {
        "colab": {
          "base_uri": "https://localhost:8080/"
        },
        "id": "5e8WQb5QvN_s",
        "outputId": "d3f34511-d9f9-473a-9f72-8bb1d1c3a676"
      },
      "source": [
        "autoencoder_obj = Autoencoder()\n",
        "autoencoder = keras.Model(autoencoder_obj.encoder_input, autoencoder_obj.decoder_output, name='autoencoder_model')\n",
        "autoencoder.summary()\n"
      ],
      "id": "5e8WQb5QvN_s",
      "execution_count": 12,
      "outputs": [
        {
          "output_type": "stream",
          "name": "stdout",
          "text": [
            "Model: \"autoencoder_model\"\n",
            "_________________________________________________________________\n",
            " Layer (type)                Output Shape              Param #   \n",
            "=================================================================\n",
            " input_1 (InputLayer)        [(None, 32, 32, 1)]       0         \n",
            "                                                                 \n",
            " flatten (Flatten)           (None, 1024)              0         \n",
            "                                                                 \n",
            " dense (Dense)               (None, 256)               262400    \n",
            "                                                                 \n",
            " dense_1 (Dense)             (None, 1024)              263168    \n",
            "                                                                 \n",
            " reshape (Reshape)           (None, 32, 32, 1)         0         \n",
            "                                                                 \n",
            "=================================================================\n",
            "Total params: 525,568\n",
            "Trainable params: 525,568\n",
            "Non-trainable params: 0\n",
            "_________________________________________________________________\n"
          ]
        }
      ]
    },
    {
      "cell_type": "code",
      "metadata": {
        "colab": {
          "base_uri": "https://localhost:8080/"
        },
        "id": "FZdk_M97w7jp",
        "outputId": "d9722cc2-6e33-454b-99a2-a577f4056a24"
      },
      "source": [
        "#autoencoder.compile(optimizer='adam', loss='binary_crossentropy')\n",
        "autoencoder.compile(optimizer='adam', loss='mse')\n",
        "autoencoder.fit(x_train, x_train, epochs=15, shuffle=True)"
      ],
      "id": "FZdk_M97w7jp",
      "execution_count": 13,
      "outputs": [
        {
          "output_type": "stream",
          "name": "stdout",
          "text": [
            "Epoch 1/15\n",
            "1563/1563 [==============================] - 13s 8ms/step - loss: 0.0182\n",
            "Epoch 2/15\n",
            "1563/1563 [==============================] - 12s 8ms/step - loss: 0.0096\n",
            "Epoch 3/15\n",
            "1563/1563 [==============================] - 12s 8ms/step - loss: 0.0087\n",
            "Epoch 4/15\n",
            "1563/1563 [==============================] - 12s 8ms/step - loss: 0.0085\n",
            "Epoch 5/15\n",
            "1563/1563 [==============================] - 12s 8ms/step - loss: 0.0083\n",
            "Epoch 6/15\n",
            "1563/1563 [==============================] - 12s 8ms/step - loss: 0.0081\n",
            "Epoch 7/15\n",
            "1563/1563 [==============================] - 12s 8ms/step - loss: 0.0080\n",
            "Epoch 8/15\n",
            "1563/1563 [==============================] - 12s 7ms/step - loss: 0.0080\n",
            "Epoch 9/15\n",
            "1563/1563 [==============================] - 12s 8ms/step - loss: 0.0080\n",
            "Epoch 10/15\n",
            "1563/1563 [==============================] - 12s 8ms/step - loss: 0.0080\n",
            "Epoch 11/15\n",
            "1563/1563 [==============================] - 12s 8ms/step - loss: 0.0080\n",
            "Epoch 12/15\n",
            "1563/1563 [==============================] - 12s 8ms/step - loss: 0.0080\n",
            "Epoch 13/15\n",
            "1563/1563 [==============================] - 13s 8ms/step - loss: 0.0079\n",
            "Epoch 14/15\n",
            "1563/1563 [==============================] - 13s 8ms/step - loss: 0.0079\n",
            "Epoch 15/15\n",
            "1563/1563 [==============================] - 13s 8ms/step - loss: 0.0079\n"
          ]
        },
        {
          "output_type": "execute_result",
          "data": {
            "text/plain": [
              "<keras.callbacks.History at 0x7f7cb74bc290>"
            ]
          },
          "metadata": {},
          "execution_count": 13
        }
      ]
    },
    {
      "cell_type": "code",
      "metadata": {
        "id": "tQOYLjtUDg5d"
      },
      "source": [
        "encoded_data = autoencoder_obj.encoder_model.predict(x_train)"
      ],
      "id": "tQOYLjtUDg5d",
      "execution_count": 14,
      "outputs": []
    },
    {
      "cell_type": "code",
      "metadata": {
        "id": "7hSTmgmlU816"
      },
      "source": [
        "decoded_data = autoencoder_obj.decoder_model.predict(encoded_data)"
      ],
      "id": "7hSTmgmlU816",
      "execution_count": 15,
      "outputs": []
    },
    {
      "cell_type": "code",
      "metadata": {
        "colab": {
          "base_uri": "https://localhost:8080/",
          "height": 284
        },
        "id": "W1Lz6pB7eKeC",
        "outputId": "a5539790-dd04-4ec6-9060-39d358086f5f"
      },
      "source": [
        "# Print some random images to verify the encoding and decoding.\n",
        "plt.figure(figsize=(50,10))\n",
        "plt.subplot(1, 10, 1) and plt.axis('off') and plt.imshow(x_train[25].reshape(32,32))\n",
        "plt.subplot(1, 10, 2) and plt.axis('off') and plt.imshow(decoded_data[25].reshape(32,32))"
      ],
      "id": "W1Lz6pB7eKeC",
      "execution_count": 16,
      "outputs": [
        {
          "output_type": "execute_result",
          "data": {
            "text/plain": [
              "<matplotlib.image.AxesImage at 0x7f7cb3c2e750>"
            ]
          },
          "metadata": {},
          "execution_count": 16
        },
        {
          "output_type": "display_data",
          "data": {
            "image/png": "[encoded data removed]",
            "text/plain": [
              "<Figure size 3600x720 with 2 Axes>"
            ]
          },
          "metadata": {
            "needs_background": "light"
          }
        }
      ]
    },
    {
      "cell_type": "code",
      "metadata": {
        "colab": {
          "base_uri": "https://localhost:8080/",
          "height": 284
        },
        "id": "gQ9enjrM03On",
        "outputId": "4583dab3-e1c5-4bcc-877f-9f77ecb14bfb"
      },
      "source": [
        "plt.figure(figsize=(50,10))\n",
        "plt.subplot(1, 10, 1) and plt.axis('off') and plt.imshow(x_train[96].reshape(32,32))\n",
        "plt.subplot(1, 10, 2) and plt.axis('off') and plt.imshow(decoded_data[96].reshape(32,32))"
      ],
      "id": "gQ9enjrM03On",
      "execution_count": 17,
      "outputs": [
        {
          "output_type": "execute_result",
          "data": {
            "text/plain": [
              "<matplotlib.image.AxesImage at 0x7f7cb366a490>"
            ]
          },
          "metadata": {},
          "execution_count": 17
        },
        {
          "output_type": "display_data",
          "data": {
            "image/png": "[encoded data removed]",
            "text/plain": [
              "<Figure size 3600x720 with 2 Axes>"
            ]
          },
          "metadata": {
            "needs_background": "light"
          }
        }
      ]
    },
    {
      "cell_type": "code",
      "metadata": {
        "id": "DWancTPuGx_d"
      },
      "source": [
        "# KMeans clustering on the encoded data\n",
        "km = KMeans(n_clusters=10, max_iter=100)"
      ],
      "id": "DWancTPuGx_d",
      "execution_count": 18,
      "outputs": []
    },
    {
      "cell_type": "code",
      "metadata": {
        "colab": {
          "base_uri": "https://localhost:8080/"
        },
        "id": "y4nJb8QgH5ci",
        "outputId": "976dbce3-93d4-4cf6-f7fe-f7f083743609"
      },
      "source": [
        "km.fit(encoded_data)"
      ],
      "id": "y4nJb8QgH5ci",
      "execution_count": 19,
      "outputs": [
        {
          "output_type": "execute_result",
          "data": {
            "text/plain": [
              "KMeans(max_iter=100, n_clusters=10)"
            ]
          },
          "metadata": {},
          "execution_count": 19
        }
      ]
    },
    {
      "cell_type": "code",
      "metadata": {
        "colab": {
          "base_uri": "https://localhost:8080/"
        },
        "id": "iXSFevt1I4pT",
        "outputId": "65caa74b-3cb4-4786-bdad-9f8406c43d24"
      },
      "source": [
        " cluster_labels = km.fit_predict(encoded_data)\n",
        " print(\"Silhouette score of the cluster is : \", silhouette_score(encoded_data, cluster_labels))"
      ],
      "id": "iXSFevt1I4pT",
      "execution_count": 20,
      "outputs": [
        {
          "output_type": "stream",
          "name": "stdout",
          "text": [
            "Silhouette score of the cluster is :  0.045223407\n"
          ]
        }
      ]
    }
  ]
}